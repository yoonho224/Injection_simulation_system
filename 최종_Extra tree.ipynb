{
 "cells": [
  {
   "cell_type": "code",
   "execution_count": 1,
   "id": "ceb705ef",
   "metadata": {},
   "outputs": [],
   "source": [
    "import pandas as pd\n",
    "import numpy as np\n",
    "import random\n",
    "from sklearn.model_selection import train_test_split\n",
    "from sklearn.model_selection import cross_val_score\n",
    "from sklearn.model_selection import RepeatedStratifiedKFold\n",
    "from sklearn.ensemble import ExtraTreesClassifier\n",
    "from sklearn.preprocessing import LabelEncoder\n",
    "from sklearn.preprocessing import PowerTransformer\n",
    "from kmodes.kprototypes import KPrototypes\n",
    "import pickle\n",
    "import joblib\n",
    "from numpy import mean\n",
    "from numpy import std\n",
    "from sklearn.datasets import make_classification\n",
    "from matplotlib import pyplot"
   ]
  },
  {
   "cell_type": "markdown",
   "id": "c8227fae",
   "metadata": {},
   "source": [
    "#### 모델 생성 후 저장"
   ]
  },
  {
   "cell_type": "code",
   "execution_count": 2,
   "id": "fbf85eee",
   "metadata": {},
   "outputs": [
    {
     "data": {
      "text/plain": [
       "['Extra_tree_model.pkl']"
      ]
     },
     "execution_count": 2,
     "metadata": {},
     "output_type": "execute_result"
    }
   ],
   "source": [
    "data = pd.read_csv('prototype_9.csv', encoding='cp949')\n",
    "\n",
    "data=data.sample(frac=1).reset_index(drop=True)\n",
    "\n",
    "#csv 파일을 copy하여 불량유무를 없앤 data를 x에 저장하고 target인 불량유무를 y에 저장\n",
    "copy = data\n",
    "y = data['불량유무']\n",
    "\n",
    "copy.drop(['불량유무'], axis=1, inplace=True)\n",
    "\n",
    "# attribute들을 X에 저장시킨 뒤 확인\n",
    "X = copy\n",
    "\n",
    "# extra tree model(80개의 tree 사용)\n",
    "\n",
    "model = ExtraTreesClassifier(n_estimators=80, random_state=0)\n",
    "cv = RepeatedStratifiedKFold(n_splits=10, n_repeats=3, random_state=1)\n",
    "n_scores = cross_val_score(model, X, y, scoring='accuracy', cv=cv, n_jobs=-1, error_score='raise')\n",
    "\n",
    "#모델 학습 후 저장\n",
    "model.fit(X, y)\n",
    "joblib.dump(model, 'Extra_tree_model.pkl')"
   ]
  },
  {
   "cell_type": "code",
   "execution_count": null,
   "id": "bf623a43",
   "metadata": {},
   "outputs": [],
   "source": [
    "# extra tree 내에서 사용할 tree 개수를 정하는 과정\n",
    "\n",
    "# get a list of models to evaluate\n",
    "def get_models():\n",
    "    models = dict()\n",
    "    # define number of trees to consider\n",
    "    n_trees = [50,60,70,80,90,100]\n",
    "    for n in n_trees:\n",
    "        models[str(n)] = ExtraTreesClassifier(n_estimators=n)\n",
    "    return models\n",
    " \n",
    "# evaluate a given model using cross-validation\n",
    "def evaluate_model(model, X, y):\n",
    "    # define the evaluation procedure\n",
    "    cv = RepeatedStratifiedKFold(n_splits=10, n_repeats=3, random_state=1)\n",
    "    # evaluate the model and collect the results\n",
    "    scores = cross_val_score(model, X, y, scoring='accuracy', cv=cv, n_jobs=-1)\n",
    "    return scores\n",
    " \n",
    "\n",
    "# get the models to evaluate\n",
    "models = get_models()\n",
    "# evaluate the models and store results\n",
    "results, names = list(), list()\n",
    "for name, model in models.items():\n",
    "    # evaluate the model\n",
    "    scores = evaluate_model(model, X, y)\n",
    "    # store the results\n",
    "    results.append(scores)\n",
    "    names.append(name)\n",
    "    # summarize the performance along the way\n",
    "    print('>%s %.3f (%.3f)' % (name, mean(scores), std(scores)))\n",
    "# plot model performance for comparison\n",
    "pyplot.boxplot(results, labels=names, showmeans=True)\n",
    "pyplot.show()"
   ]
  },
  {
   "cell_type": "markdown",
   "id": "c75023a7",
   "metadata": {},
   "source": [
    "#### 군집화 -> 입력 -> 예측"
   ]
  },
  {
   "cell_type": "code",
   "execution_count": 2,
   "id": "1278f688",
   "metadata": {},
   "outputs": [
    {
     "name": "stdout",
     "output_type": "stream",
     "text": [
      "[재료명, 모델, 품명, 색상, Cavity, 사출속도, 사출압력, 사출위치, 사출시간, 보압속도, 보압압력, 보압시간, 계랸속도, 계량위치, 석백, 계량시간, 상부 금형 온도, 하부 금형 온도, 냉각 값, 쿠션 값, 실린더온도_노즐, 실린더온도(1, 2, 3, 4)를 입력해주세요]\n",
      "재료명을 입력해주세요 : 1\n",
      "모델을 입력해주세요 : 2\n",
      "품명을 입력해주세요 : 3\n",
      "색상이 투명이면 1, 그렇지 않으면 0을 입력해주세요 : 4\n",
      "cavity 수를 입력해주세요 : 1\n",
      "사출속도를 입력해주세요 : 2\n",
      "사출압력을 입력해주세요 : 3\n",
      "사출위치를 입력해주세요 : 4\n",
      "사출시간을 입력해주세요 : 1\n",
      "보압속도를 입력해주세요 : 2\n",
      "보압압력를 입력해주세요 : 3\n",
      "보압시간을 입력해주세요 : 44\n",
      "계량속도를 입력해주세요 : 1\n",
      "계량위치를 입력해주세요 : 2\n",
      "계량위치(석백)를 입력해주세요 : 3\n",
      "계량시간을 입력해주세요 : 4\n",
      "상부 금형 온도를 입력해주세요 : 1\n",
      "하부 금형 온도를 입력해주세요 : 2\n",
      "냉각 값을 입력해주세요 : 3\n",
      "쿠션 값을 입력해주세요 : 4\n",
      "실린더온도_노즐을 입력해주세요 : 1\n",
      "실린더온도_H1을 입력해주세요 : 2\n",
      "실린더온도_H2을 입력해주세요 : 3\n",
      "실린더온도_H3을 입력해주세요 : 4\n",
      "실린더온도_H4을 입력해주세요 : 1\n"
     ]
    }
   ],
   "source": [
    "# 입력을 받아 군집을 구하기 위한 파일 불러오기\n",
    "\n",
    "old_file = pd.read_csv(\"본 파일.csv\", encoding='cp949')\n",
    "\n",
    "old_file.drop(['불량유무'], axis=1, inplace=True)\n",
    "\n",
    "row = []\n",
    "\n",
    "print(\"[재료명, 모델, 품명, 색상, Cavity, 사출속도, 사출압력, 사출위치, 사출시간, 보압속도, 보압압력, 보압시간, 계랸속도, 계량위치, 석백, 계량시간, 상부 금형 온도, 하부 금형 온도, 냉각 값, 쿠션 값, 실린더온도_노즐, 실린더온도(1, 2, 3, 4)를 입력해주세요]\")\n",
    "\n",
    "# 범주형 변수 입력\n",
    "x = input('재료명을 입력해주세요 : ')\n",
    "row.append(x)\n",
    "x = input('모델을 입력해주세요 : ')\n",
    "row.append(x)\n",
    "x = input('품명을 입력해주세요 : ')\n",
    "row.append(x)\n",
    "\n",
    "# 수치형 변수 입력\n",
    "x = int(input('색상이 투명이면 1, 그렇지 않으면 0을 입력해주세요 : '))\n",
    "row.append(x)\n",
    "x = int(input('cavity 수를 입력해주세요 : '))\n",
    "row.append(x)\n",
    "x = float(input('사출속도를 입력해주세요 : '))\n",
    "row.append(x)\n",
    "x = float(input('사출압력을 입력해주세요 : '))\n",
    "row.append(x)\n",
    "x = float(input('사출위치를 입력해주세요 : '))\n",
    "row.append(x)\n",
    "x = float(input('사출시간을 입력해주세요 : '))\n",
    "row.append(x)\n",
    "x = float(input('보압속도를 입력해주세요 : '))\n",
    "row.append(x)\n",
    "x = float(input('보압압력를 입력해주세요 : '))\n",
    "row.append(x)\n",
    "x = float(input('보압시간을 입력해주세요 : '))\n",
    "row.append(x)\n",
    "x = float(input('계량속도를 입력해주세요 : '))\n",
    "row.append(x)\n",
    "x = float(input('계량위치를 입력해주세요 : '))\n",
    "row.append(x)\n",
    "x = float(input('계량위치(석백)를 입력해주세요 : '))\n",
    "row.append(x)\n",
    "x = float(input('계량시간을 입력해주세요 : '))\n",
    "row.append(x)\n",
    "x = float(input('상부 금형 온도를 입력해주세요 : '))\n",
    "row.append(x)\n",
    "x = float(input('하부 금형 온도를 입력해주세요 : '))\n",
    "row.append(x)\n",
    "x = float(input('냉각 값을 입력해주세요 : '))\n",
    "row.append(x)\n",
    "x = float(input('쿠션 값을 입력해주세요 : '))\n",
    "row.append(x)\n",
    "x = float(input('실린더온도_노즐을 입력해주세요 : '))\n",
    "row.append(x)\n",
    "x = float(input('실린더온도_H1을 입력해주세요 : '))\n",
    "row.append(x)\n",
    "x = float(input('실린더온도_H2을 입력해주세요 : '))\n",
    "row.append(x)\n",
    "x = float(input('실린더온도_H3을 입력해주세요 : '))\n",
    "row.append(x)\n",
    "x = float(input('실린더온도_H4을 입력해주세요 : '))\n",
    "row.append(x)\n",
    "\n",
    "#마지막 행에 append한 후 tail로 확인\n",
    "old_file = old_file.append(pd.Series(row, index=old_file.columns), ignore_index=True)\n",
    "\n",
    "catColumnsPos = [old_file.columns.get_loc(col) for col in list(old_file.select_dtypes('object').columns)]\n",
    "\n",
    "dfMatrix = old_file.to_numpy() \n",
    "\n",
    "#kprototype을 돌려 새로이 입력으로 받은 행의 군집 확인\n",
    "kprototype = KPrototypes(n_jobs = -1, n_clusters = 9, init = 'Huang', random_state = 0) \n",
    "kprototype.fit_predict(dfMatrix, categorical = catColumnsPos)\n",
    "\n",
    "# 9개의 군집으로 나뉘게 되고, 0~8까지의 label을 붙여줌\n",
    "old_file['Labels'] = kprototype.labels_ \n",
    "\n",
    "# 군집으로 나누었으므로 categorical 변수를 전부 drop\n",
    "old_file.drop(['재료명', '모델', '품명'], axis=1, inplace=True)\n",
    "\n",
    "# 입력으로 받았던 row를 다시 불러옴\n",
    "new_row = old_file.tail(n=1)\n",
    "\n",
    "X = new_row.values.tolist()\n",
    "\n",
    "# 모델 불러오기\n",
    "model = joblib.load('Extra_tree_model.pkl')"
   ]
  },
  {
   "cell_type": "code",
   "execution_count": 3,
   "id": "b7c1e126",
   "metadata": {},
   "outputs": [
    {
     "name": "stdout",
     "output_type": "stream",
     "text": [
      "['입력하신 값으로 사출을 할 때엔 불량일 확률이 높습니다.']\n"
     ]
    }
   ],
   "source": [
    "# 모델 예측\n",
    "print(np.where(model.predict(X) < 1, '입력하신 값으로 사출을 할 때엔 양품일 확률이 높습니다.','입력하신 값으로 사출을 할 때엔 불량일 확률이 높습니다.'))"
   ]
  }
 ],
 "metadata": {
  "kernelspec": {
   "display_name": "Python 3",
   "language": "python",
   "name": "python3"
  },
  "language_info": {
   "codemirror_mode": {
    "name": "ipython",
    "version": 3
   },
   "file_extension": ".py",
   "mimetype": "text/x-python",
   "name": "python",
   "nbconvert_exporter": "python",
   "pygments_lexer": "ipython3",
   "version": "3.8.8"
  }
 },
 "nbformat": 4,
 "nbformat_minor": 5
}
